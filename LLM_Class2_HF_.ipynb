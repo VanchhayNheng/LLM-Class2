{
  "nbformat": 4,
  "nbformat_minor": 0,
  "metadata": {
    "colab": {
      "provenance": [],
      "gpuType": "T4"
    },
    "kernelspec": {
      "name": "python3",
      "display_name": "Python 3"
    },
    "language_info": {
      "name": "python"
    },
    "accelerator": "GPU"
  },
  "cells": [
    {
      "cell_type": "code",
      "source": [],
      "metadata": {
        "id": "oj5wKhUMPshj"
      },
      "execution_count": null,
      "outputs": []
    },
    {
      "cell_type": "code",
      "metadata": {
        "collapsed": true,
        "id": "raxYSzBpPQmT"
      },
      "source": [
        "!pip install transformers torch accelerate bitsandbytes\n",
        "\n",
        "from transformers import AutoModelForCausalLM, AutoTokenizer, BitsAndBytesConfig\n",
        "from google.colab import userdata\n",
        "import torch\n",
        "\n",
        "model_name = \"microsoft/Phi-3-mini-4k-instruct\"\n",
        "\n",
        "# Get the Hugging Face token from Colab's Secrets Manager\n",
        "hf_token = userdata.get('HF_TOKEN')\n",
        "\n",
        "# nf4_config = BitsAndBytesConfig(\n",
        "#     load_in_4bit=True,\n",
        "#     bnb_4bit_quant_type=\"nf4\",\n",
        "#     bnb_4bit_use_double_quant=True,\n",
        "#     bnb_4bit_compute_dtype=torch.bfloat16\n",
        "# )\n",
        "\n",
        "tokenizer = AutoTokenizer.from_pretrained(model_name, token=hf_token)\n",
        "model = AutoModelForCausalLM.from_pretrained(\n",
        "    model_name,\n",
        "    device_map=\"cuda\",\n",
        "    torch_dtype=\"auto\",\n",
        "    trust_remote_code=False,\n",
        ")\n",
        "\n",
        "print(f\"Model '{model_name}' loaded successfully with 4-bit quantization.\")"
      ],
      "execution_count": null,
      "outputs": []
    },
    {
      "cell_type": "code",
      "source": [
        "from transformers import pipeline"
      ],
      "metadata": {
        "id": "RV4cZWPqV6C_"
      },
      "execution_count": 2,
      "outputs": []
    },
    {
      "cell_type": "code",
      "source": [
        "# Create a pipeline\n",
        "generator = pipeline(\n",
        "    \"text-generation\",\n",
        "    model=model_name,\n",
        "    tokenizer=tokenizer,\n",
        "    return_full_text=False,     # only show output, not the input prompt\n",
        "    max_new_tokens=500,\n",
        "    do_sample=False   # always pick the most likely next word(Greedy)\n",
        ")"
      ],
      "metadata": {
        "collapsed": true,
        "id": "DPffRp7pV9eL"
      },
      "execution_count": null,
      "outputs": []
    },
    {
      "cell_type": "code",
      "source": [
        "messages = [\n",
        "    {\"role\": \"user\", \"content\": \"Tell me about Korea.\"}\n",
        "]\n",
        "\n",
        "# Generate output\n",
        "output = generator(messages)\n",
        "print(output[0][\"generated_text\"])"
      ],
      "metadata": {
        "colab": {
          "base_uri": "https://localhost:8080/"
        },
        "id": "BnpCUvSbt4iF",
        "outputId": "685e7e99-22af-413c-a9eb-d3e2392f86bf"
      },
      "execution_count": 6,
      "outputs": [
        {
          "output_type": "stream",
          "name": "stdout",
          "text": [
            " Korea is a country located in East Asia, divided into two distinct sovereign states: North Korea and South Korea. The Korean Peninsula is situated on the eastern side of the Asian continent, with the Yellow Sea to the west, the Sea of Japan (also known as the East Sea) to the east, and the Korea Strait to the south.\n",
            "\n",
            "North Korea, officially known as the Democratic People's Republic of Korea (DPRK), is a socialist state with a centralized government led by the Kim dynasty. The country's capital is Pyongyang. North Korea is known for its strict government control, isolationist policies, and its nuclear weapons program. The country's economy is primarily based on agriculture, with limited industrialization.\n",
            "\n",
            "South Korea, officially known as the Republic of Korea (ROK), is a democratic and capitalist country with a strong economy and advanced technology. The capital city is Seoul, which is one of the most populous and technologically advanced cities in the world. South Korea is known for its vibrant culture, including K-pop, K-dramas, and Korean cuisine. The country has a high standard of living, with a well-developed infrastructure and a strong education system.\n",
            "\n",
            "The Korean language is the official language of both North and South Korea, although there are differences in pronunciation and vocabulary between the two countries. The Korean alphabet, Hangul, was created in the 15th century by King Sejong the Great and is widely used in both countries.\n",
            "\n",
            "The Korean Peninsula has a rich history, with its roots dating back to the ancient kingdoms of Goguryeo, Baekje, and Silla. The region was later ruled by the Joseon Dynasty, which lasted for over five centuries. In the late 19th and early 20th centuries, Korea was colonized by Japan, and it gained independence after World War II. The Korean War (1950-1953) further divided the peninsula into North and South Korea.\n",
            "\n",
            "Today, both North and South Korea have distinct political, economic, and social systems, and the two countries have limited contact with each other. However, there are ongoing efforts to improve relations and promote peace and\n"
          ]
        }
      ]
    }
  ]
}